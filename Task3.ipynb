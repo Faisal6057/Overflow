{
  "nbformat": 4,
  "nbformat_minor": 0,
  "metadata": {
    "colab": {
      "provenance": [],
      "authorship_tag": "ABX9TyP0B69qzD5kHvBO5vtCxL53",
      "include_colab_link": true
    },
    "kernelspec": {
      "name": "python3",
      "display_name": "Python 3"
    },
    "language_info": {
      "name": "python"
    }
  },
  "cells": [
    {
      "cell_type": "markdown",
      "metadata": {
        "id": "view-in-github",
        "colab_type": "text"
      },
      "source": [
        "<a href=\"https://colab.research.google.com/github/Faisal6057/Overflow/blob/main/Task3.ipynb\" target=\"_parent\"><img src=\"https://colab.research.google.com/assets/colab-badge.svg\" alt=\"Open In Colab\"/></a>"
      ]
    },
    {
      "cell_type": "code",
      "execution_count": 12,
      "metadata": {
        "id": "0D79Z1mXA8yL"
      },
      "outputs": [],
      "source": [
        "import pandas as pd\n",
        "import numpy as np\n",
        "import matplotlib.pyplot as plt"
      ]
    },
    {
      "cell_type": "code",
      "source": [
        "data = pd.read_csv('householdtask3.csv')"
      ],
      "metadata": {
        "id": "z5F895bSLOCy"
      },
      "execution_count": 2,
      "outputs": []
    },
    {
      "cell_type": "code",
      "source": [
        "data.head(10)"
      ],
      "metadata": {
        "colab": {
          "base_uri": "https://localhost:8080/",
          "height": 363
        },
        "id": "YYqw2I5JLpfO",
        "outputId": "8316b9b0-c379-4c7f-989e-1db32db84e1d"
      },
      "execution_count": 4,
      "outputs": [
        {
          "output_type": "execute_result",
          "data": {
            "text/plain": [
              "   year  tot_hhs      own  own_wm  own_prop  own_wm_prop  prop_hhs   age  \\\n",
              "0  2008  1560859  1087580  574406      69.7         36.8     100.0  35.9   \n",
              "1  2008   185965    71256   39405      38.3         21.2      11.9  29.9   \n",
              "2  2008   312376   191470   48424      61.3         15.5      20.0  40.0   \n",
              "3  2008   312333   196203   84171      62.8         26.9      20.0  34.7   \n",
              "4  2008   312240   217657  141318      69.7         45.3      20.0  31.5   \n",
              "5  2008   312336   229014  147658      73.3         47.3      20.0  35.3   \n",
              "6  2008   311574   253235  152835      81.3         49.1      20.0  39.3   \n",
              "7  2008   312761   194358   49448      62.1         15.8      20.0  38.7   \n",
              "8  2008   311973   206342   86390      66.1         27.7      20.0  36.1   \n",
              "9  2008   311840   194361  108065      62.3         34.7      20.0  33.0   \n",
              "\n",
              "   size  income  expenditure  eqv_income  eqv_exp  \n",
              "0   2.7   46704        42394       26869    25132  \n",
              "1   2.6   23404        25270       14258    15824  \n",
              "2   2.3   16747        21145       13402    14408  \n",
              "3   2.8   31308        29855       18917    18266  \n",
              "4   3.0   49106        46561       26870    24672  \n",
              "5   2.6   61674        52776       36691    31958  \n",
              "6   2.5   96861        72822       55637    42932  \n",
              "7   2.5   23680        16413       15190    11015  \n",
              "8   2.7   34155        29085       20357    18121  \n",
              "9   2.8   49771        42662       27203    25132  "
            ],
            "text/html": [
              "\n",
              "  <div id=\"df-f9f595b7-ec7c-4ad8-8269-be38beaa887e\" class=\"colab-df-container\">\n",
              "    <div>\n",
              "<style scoped>\n",
              "    .dataframe tbody tr th:only-of-type {\n",
              "        vertical-align: middle;\n",
              "    }\n",
              "\n",
              "    .dataframe tbody tr th {\n",
              "        vertical-align: top;\n",
              "    }\n",
              "\n",
              "    .dataframe thead th {\n",
              "        text-align: right;\n",
              "    }\n",
              "</style>\n",
              "<table border=\"1\" class=\"dataframe\">\n",
              "  <thead>\n",
              "    <tr style=\"text-align: right;\">\n",
              "      <th></th>\n",
              "      <th>year</th>\n",
              "      <th>tot_hhs</th>\n",
              "      <th>own</th>\n",
              "      <th>own_wm</th>\n",
              "      <th>own_prop</th>\n",
              "      <th>own_wm_prop</th>\n",
              "      <th>prop_hhs</th>\n",
              "      <th>age</th>\n",
              "      <th>size</th>\n",
              "      <th>income</th>\n",
              "      <th>expenditure</th>\n",
              "      <th>eqv_income</th>\n",
              "      <th>eqv_exp</th>\n",
              "    </tr>\n",
              "  </thead>\n",
              "  <tbody>\n",
              "    <tr>\n",
              "      <th>0</th>\n",
              "      <td>2008</td>\n",
              "      <td>1560859</td>\n",
              "      <td>1087580</td>\n",
              "      <td>574406</td>\n",
              "      <td>69.7</td>\n",
              "      <td>36.8</td>\n",
              "      <td>100.0</td>\n",
              "      <td>35.9</td>\n",
              "      <td>2.7</td>\n",
              "      <td>46704</td>\n",
              "      <td>42394</td>\n",
              "      <td>26869</td>\n",
              "      <td>25132</td>\n",
              "    </tr>\n",
              "    <tr>\n",
              "      <th>1</th>\n",
              "      <td>2008</td>\n",
              "      <td>185965</td>\n",
              "      <td>71256</td>\n",
              "      <td>39405</td>\n",
              "      <td>38.3</td>\n",
              "      <td>21.2</td>\n",
              "      <td>11.9</td>\n",
              "      <td>29.9</td>\n",
              "      <td>2.6</td>\n",
              "      <td>23404</td>\n",
              "      <td>25270</td>\n",
              "      <td>14258</td>\n",
              "      <td>15824</td>\n",
              "    </tr>\n",
              "    <tr>\n",
              "      <th>2</th>\n",
              "      <td>2008</td>\n",
              "      <td>312376</td>\n",
              "      <td>191470</td>\n",
              "      <td>48424</td>\n",
              "      <td>61.3</td>\n",
              "      <td>15.5</td>\n",
              "      <td>20.0</td>\n",
              "      <td>40.0</td>\n",
              "      <td>2.3</td>\n",
              "      <td>16747</td>\n",
              "      <td>21145</td>\n",
              "      <td>13402</td>\n",
              "      <td>14408</td>\n",
              "    </tr>\n",
              "    <tr>\n",
              "      <th>3</th>\n",
              "      <td>2008</td>\n",
              "      <td>312333</td>\n",
              "      <td>196203</td>\n",
              "      <td>84171</td>\n",
              "      <td>62.8</td>\n",
              "      <td>26.9</td>\n",
              "      <td>20.0</td>\n",
              "      <td>34.7</td>\n",
              "      <td>2.8</td>\n",
              "      <td>31308</td>\n",
              "      <td>29855</td>\n",
              "      <td>18917</td>\n",
              "      <td>18266</td>\n",
              "    </tr>\n",
              "    <tr>\n",
              "      <th>4</th>\n",
              "      <td>2008</td>\n",
              "      <td>312240</td>\n",
              "      <td>217657</td>\n",
              "      <td>141318</td>\n",
              "      <td>69.7</td>\n",
              "      <td>45.3</td>\n",
              "      <td>20.0</td>\n",
              "      <td>31.5</td>\n",
              "      <td>3.0</td>\n",
              "      <td>49106</td>\n",
              "      <td>46561</td>\n",
              "      <td>26870</td>\n",
              "      <td>24672</td>\n",
              "    </tr>\n",
              "    <tr>\n",
              "      <th>5</th>\n",
              "      <td>2008</td>\n",
              "      <td>312336</td>\n",
              "      <td>229014</td>\n",
              "      <td>147658</td>\n",
              "      <td>73.3</td>\n",
              "      <td>47.3</td>\n",
              "      <td>20.0</td>\n",
              "      <td>35.3</td>\n",
              "      <td>2.6</td>\n",
              "      <td>61674</td>\n",
              "      <td>52776</td>\n",
              "      <td>36691</td>\n",
              "      <td>31958</td>\n",
              "    </tr>\n",
              "    <tr>\n",
              "      <th>6</th>\n",
              "      <td>2008</td>\n",
              "      <td>311574</td>\n",
              "      <td>253235</td>\n",
              "      <td>152835</td>\n",
              "      <td>81.3</td>\n",
              "      <td>49.1</td>\n",
              "      <td>20.0</td>\n",
              "      <td>39.3</td>\n",
              "      <td>2.5</td>\n",
              "      <td>96861</td>\n",
              "      <td>72822</td>\n",
              "      <td>55637</td>\n",
              "      <td>42932</td>\n",
              "    </tr>\n",
              "    <tr>\n",
              "      <th>7</th>\n",
              "      <td>2008</td>\n",
              "      <td>312761</td>\n",
              "      <td>194358</td>\n",
              "      <td>49448</td>\n",
              "      <td>62.1</td>\n",
              "      <td>15.8</td>\n",
              "      <td>20.0</td>\n",
              "      <td>38.7</td>\n",
              "      <td>2.5</td>\n",
              "      <td>23680</td>\n",
              "      <td>16413</td>\n",
              "      <td>15190</td>\n",
              "      <td>11015</td>\n",
              "    </tr>\n",
              "    <tr>\n",
              "      <th>8</th>\n",
              "      <td>2008</td>\n",
              "      <td>311973</td>\n",
              "      <td>206342</td>\n",
              "      <td>86390</td>\n",
              "      <td>66.1</td>\n",
              "      <td>27.7</td>\n",
              "      <td>20.0</td>\n",
              "      <td>36.1</td>\n",
              "      <td>2.7</td>\n",
              "      <td>34155</td>\n",
              "      <td>29085</td>\n",
              "      <td>20357</td>\n",
              "      <td>18121</td>\n",
              "    </tr>\n",
              "    <tr>\n",
              "      <th>9</th>\n",
              "      <td>2008</td>\n",
              "      <td>311840</td>\n",
              "      <td>194361</td>\n",
              "      <td>108065</td>\n",
              "      <td>62.3</td>\n",
              "      <td>34.7</td>\n",
              "      <td>20.0</td>\n",
              "      <td>33.0</td>\n",
              "      <td>2.8</td>\n",
              "      <td>49771</td>\n",
              "      <td>42662</td>\n",
              "      <td>27203</td>\n",
              "      <td>25132</td>\n",
              "    </tr>\n",
              "  </tbody>\n",
              "</table>\n",
              "</div>\n",
              "    <div class=\"colab-df-buttons\">\n",
              "\n",
              "  <div class=\"colab-df-container\">\n",
              "    <button class=\"colab-df-convert\" onclick=\"convertToInteractive('df-f9f595b7-ec7c-4ad8-8269-be38beaa887e')\"\n",
              "            title=\"Convert this dataframe to an interactive table.\"\n",
              "            style=\"display:none;\">\n",
              "\n",
              "  <svg xmlns=\"http://www.w3.org/2000/svg\" height=\"24px\" viewBox=\"0 -960 960 960\">\n",
              "    <path d=\"M120-120v-720h720v720H120Zm60-500h600v-160H180v160Zm220 220h160v-160H400v160Zm0 220h160v-160H400v160ZM180-400h160v-160H180v160Zm440 0h160v-160H620v160ZM180-180h160v-160H180v160Zm440 0h160v-160H620v160Z\"/>\n",
              "  </svg>\n",
              "    </button>\n",
              "\n",
              "  <style>\n",
              "    .colab-df-container {\n",
              "      display:flex;\n",
              "      gap: 12px;\n",
              "    }\n",
              "\n",
              "    .colab-df-convert {\n",
              "      background-color: #E8F0FE;\n",
              "      border: none;\n",
              "      border-radius: 50%;\n",
              "      cursor: pointer;\n",
              "      display: none;\n",
              "      fill: #1967D2;\n",
              "      height: 32px;\n",
              "      padding: 0 0 0 0;\n",
              "      width: 32px;\n",
              "    }\n",
              "\n",
              "    .colab-df-convert:hover {\n",
              "      background-color: #E2EBFA;\n",
              "      box-shadow: 0px 1px 2px rgba(60, 64, 67, 0.3), 0px 1px 3px 1px rgba(60, 64, 67, 0.15);\n",
              "      fill: #174EA6;\n",
              "    }\n",
              "\n",
              "    .colab-df-buttons div {\n",
              "      margin-bottom: 4px;\n",
              "    }\n",
              "\n",
              "    [theme=dark] .colab-df-convert {\n",
              "      background-color: #3B4455;\n",
              "      fill: #D2E3FC;\n",
              "    }\n",
              "\n",
              "    [theme=dark] .colab-df-convert:hover {\n",
              "      background-color: #434B5C;\n",
              "      box-shadow: 0px 1px 3px 1px rgba(0, 0, 0, 0.15);\n",
              "      filter: drop-shadow(0px 1px 2px rgba(0, 0, 0, 0.3));\n",
              "      fill: #FFFFFF;\n",
              "    }\n",
              "  </style>\n",
              "\n",
              "    <script>\n",
              "      const buttonEl =\n",
              "        document.querySelector('#df-f9f595b7-ec7c-4ad8-8269-be38beaa887e button.colab-df-convert');\n",
              "      buttonEl.style.display =\n",
              "        google.colab.kernel.accessAllowed ? 'block' : 'none';\n",
              "\n",
              "      async function convertToInteractive(key) {\n",
              "        const element = document.querySelector('#df-f9f595b7-ec7c-4ad8-8269-be38beaa887e');\n",
              "        const dataTable =\n",
              "          await google.colab.kernel.invokeFunction('convertToInteractive',\n",
              "                                                    [key], {});\n",
              "        if (!dataTable) return;\n",
              "\n",
              "        const docLinkHtml = 'Like what you see? Visit the ' +\n",
              "          '<a target=\"_blank\" href=https://colab.research.google.com/notebooks/data_table.ipynb>data table notebook</a>'\n",
              "          + ' to learn more about interactive tables.';\n",
              "        element.innerHTML = '';\n",
              "        dataTable['output_type'] = 'display_data';\n",
              "        await google.colab.output.renderOutput(dataTable, element);\n",
              "        const docLink = document.createElement('div');\n",
              "        docLink.innerHTML = docLinkHtml;\n",
              "        element.appendChild(docLink);\n",
              "      }\n",
              "    </script>\n",
              "  </div>\n",
              "\n",
              "\n",
              "<div id=\"df-a0c274a5-4011-4d84-8546-cd55fb208e6e\">\n",
              "  <button class=\"colab-df-quickchart\" onclick=\"quickchart('df-a0c274a5-4011-4d84-8546-cd55fb208e6e')\"\n",
              "            title=\"Suggest charts\"\n",
              "            style=\"display:none;\">\n",
              "\n",
              "<svg xmlns=\"http://www.w3.org/2000/svg\" height=\"24px\"viewBox=\"0 0 24 24\"\n",
              "     width=\"24px\">\n",
              "    <g>\n",
              "        <path d=\"M19 3H5c-1.1 0-2 .9-2 2v14c0 1.1.9 2 2 2h14c1.1 0 2-.9 2-2V5c0-1.1-.9-2-2-2zM9 17H7v-7h2v7zm4 0h-2V7h2v10zm4 0h-2v-4h2v4z\"/>\n",
              "    </g>\n",
              "</svg>\n",
              "  </button>\n",
              "\n",
              "<style>\n",
              "  .colab-df-quickchart {\n",
              "      --bg-color: #E8F0FE;\n",
              "      --fill-color: #1967D2;\n",
              "      --hover-bg-color: #E2EBFA;\n",
              "      --hover-fill-color: #174EA6;\n",
              "      --disabled-fill-color: #AAA;\n",
              "      --disabled-bg-color: #DDD;\n",
              "  }\n",
              "\n",
              "  [theme=dark] .colab-df-quickchart {\n",
              "      --bg-color: #3B4455;\n",
              "      --fill-color: #D2E3FC;\n",
              "      --hover-bg-color: #434B5C;\n",
              "      --hover-fill-color: #FFFFFF;\n",
              "      --disabled-bg-color: #3B4455;\n",
              "      --disabled-fill-color: #666;\n",
              "  }\n",
              "\n",
              "  .colab-df-quickchart {\n",
              "    background-color: var(--bg-color);\n",
              "    border: none;\n",
              "    border-radius: 50%;\n",
              "    cursor: pointer;\n",
              "    display: none;\n",
              "    fill: var(--fill-color);\n",
              "    height: 32px;\n",
              "    padding: 0;\n",
              "    width: 32px;\n",
              "  }\n",
              "\n",
              "  .colab-df-quickchart:hover {\n",
              "    background-color: var(--hover-bg-color);\n",
              "    box-shadow: 0 1px 2px rgba(60, 64, 67, 0.3), 0 1px 3px 1px rgba(60, 64, 67, 0.15);\n",
              "    fill: var(--button-hover-fill-color);\n",
              "  }\n",
              "\n",
              "  .colab-df-quickchart-complete:disabled,\n",
              "  .colab-df-quickchart-complete:disabled:hover {\n",
              "    background-color: var(--disabled-bg-color);\n",
              "    fill: var(--disabled-fill-color);\n",
              "    box-shadow: none;\n",
              "  }\n",
              "\n",
              "  .colab-df-spinner {\n",
              "    border: 2px solid var(--fill-color);\n",
              "    border-color: transparent;\n",
              "    border-bottom-color: var(--fill-color);\n",
              "    animation:\n",
              "      spin 1s steps(1) infinite;\n",
              "  }\n",
              "\n",
              "  @keyframes spin {\n",
              "    0% {\n",
              "      border-color: transparent;\n",
              "      border-bottom-color: var(--fill-color);\n",
              "      border-left-color: var(--fill-color);\n",
              "    }\n",
              "    20% {\n",
              "      border-color: transparent;\n",
              "      border-left-color: var(--fill-color);\n",
              "      border-top-color: var(--fill-color);\n",
              "    }\n",
              "    30% {\n",
              "      border-color: transparent;\n",
              "      border-left-color: var(--fill-color);\n",
              "      border-top-color: var(--fill-color);\n",
              "      border-right-color: var(--fill-color);\n",
              "    }\n",
              "    40% {\n",
              "      border-color: transparent;\n",
              "      border-right-color: var(--fill-color);\n",
              "      border-top-color: var(--fill-color);\n",
              "    }\n",
              "    60% {\n",
              "      border-color: transparent;\n",
              "      border-right-color: var(--fill-color);\n",
              "    }\n",
              "    80% {\n",
              "      border-color: transparent;\n",
              "      border-right-color: var(--fill-color);\n",
              "      border-bottom-color: var(--fill-color);\n",
              "    }\n",
              "    90% {\n",
              "      border-color: transparent;\n",
              "      border-bottom-color: var(--fill-color);\n",
              "    }\n",
              "  }\n",
              "</style>\n",
              "\n",
              "  <script>\n",
              "    async function quickchart(key) {\n",
              "      const quickchartButtonEl =\n",
              "        document.querySelector('#' + key + ' button');\n",
              "      quickchartButtonEl.disabled = true;  // To prevent multiple clicks.\n",
              "      quickchartButtonEl.classList.add('colab-df-spinner');\n",
              "      try {\n",
              "        const charts = await google.colab.kernel.invokeFunction(\n",
              "            'suggestCharts', [key], {});\n",
              "      } catch (error) {\n",
              "        console.error('Error during call to suggestCharts:', error);\n",
              "      }\n",
              "      quickchartButtonEl.classList.remove('colab-df-spinner');\n",
              "      quickchartButtonEl.classList.add('colab-df-quickchart-complete');\n",
              "    }\n",
              "    (() => {\n",
              "      let quickchartButtonEl =\n",
              "        document.querySelector('#df-a0c274a5-4011-4d84-8546-cd55fb208e6e button');\n",
              "      quickchartButtonEl.style.display =\n",
              "        google.colab.kernel.accessAllowed ? 'block' : 'none';\n",
              "    })();\n",
              "  </script>\n",
              "</div>\n",
              "\n",
              "    </div>\n",
              "  </div>\n"
            ],
            "application/vnd.google.colaboratory.intrinsic+json": {
              "type": "dataframe",
              "variable_name": "data",
              "summary": "{\n  \"name\": \"data\",\n  \"rows\": 70,\n  \"fields\": [\n    {\n      \"column\": \"year\",\n      \"properties\": {\n        \"dtype\": \"number\",\n        \"std\": 4,\n        \"min\": 2008,\n        \"max\": 2020,\n        \"num_unique_values\": 5,\n        \"samples\": [\n          2011,\n          2020,\n          2014\n        ],\n        \"semantic_type\": \"\",\n        \"description\": \"\"\n      }\n    },\n    {\n      \"column\": \"tot_hhs\",\n      \"properties\": {\n        \"dtype\": \"number\",\n        \"std\": 349154,\n        \"min\": 132215,\n        \"max\": 1756740,\n        \"num_unique_values\": 70,\n        \"samples\": [\n          321894,\n          1560859,\n          338025\n        ],\n        \"semantic_type\": \"\",\n        \"description\": \"\"\n      }\n    },\n    {\n      \"column\": \"own\",\n      \"properties\": {\n        \"dtype\": \"number\",\n        \"std\": 238523,\n        \"min\": 30080,\n        \"max\": 1125000,\n        \"num_unique_values\": 70,\n        \"samples\": [\n          179200,\n          1087580,\n          181960\n        ],\n        \"semantic_type\": \"\",\n        \"description\": \"\"\n      }\n    },\n    {\n      \"column\": \"own_wm\",\n      \"properties\": {\n        \"dtype\": \"number\",\n        \"std\": 128627,\n        \"min\": 14220,\n        \"max\": 574662,\n        \"num_unique_values\": 70,\n        \"samples\": [\n          77025,\n          574406,\n          32809\n        ],\n        \"semantic_type\": \"\",\n        \"description\": \"\"\n      }\n    },\n    {\n      \"column\": \"own_prop\",\n      \"properties\": {\n        \"dtype\": \"number\",\n        \"std\": 15.145256929263901,\n        \"min\": 22.8,\n        \"max\": 88.1,\n        \"num_unique_values\": 66,\n        \"samples\": [\n          26.6,\n          67.2,\n          69.7\n        ],\n        \"semantic_type\": \"\",\n        \"description\": \"\"\n      }\n    },\n    {\n      \"column\": \"own_wm_prop\",\n      \"properties\": {\n        \"dtype\": \"number\",\n        \"std\": 14.010004115663598,\n        \"min\": 5.1,\n        \"max\": 58.2,\n        \"num_unique_values\": 65,\n        \"samples\": [\n          8.5,\n          23.0,\n          36.8\n        ],\n        \"semantic_type\": \"\",\n        \"description\": \"\"\n      }\n    },\n    {\n      \"column\": \"prop_hhs\",\n      \"properties\": {\n        \"dtype\": \"number\",\n        \"std\": 21.102368063518337,\n        \"min\": 7.8,\n        \"max\": 100.0,\n        \"num_unique_values\": 16,\n        \"samples\": [\n          100.0,\n          11.9,\n          12.3\n        ],\n        \"semantic_type\": \"\",\n        \"description\": \"\"\n      }\n    },\n    {\n      \"column\": \"age\",\n      \"properties\": {\n        \"dtype\": \"number\",\n        \"std\": 9.37634451366434,\n        \"min\": 27.3,\n        \"max\": 70.3,\n        \"num_unique_values\": 56,\n        \"samples\": [\n          35.9,\n          35.3,\n          36.4\n        ],\n        \"semantic_type\": \"\",\n        \"description\": \"\"\n      }\n    },\n    {\n      \"column\": \"size\",\n      \"properties\": {\n        \"dtype\": \"number\",\n        \"std\": 0.3504389439205481,\n        \"min\": 1.6,\n        \"max\": 3.2,\n        \"num_unique_values\": 12,\n        \"samples\": [\n          3.1,\n          2.9,\n          2.7\n        ],\n        \"semantic_type\": \"\",\n        \"description\": \"\"\n      }\n    },\n    {\n      \"column\": \"income\",\n      \"properties\": {\n        \"dtype\": \"number\",\n        \"std\": 28921,\n        \"min\": 16747,\n        \"max\": 146672,\n        \"num_unique_values\": 70,\n        \"samples\": [\n          38932,\n          46704,\n          33596\n        ],\n        \"semantic_type\": \"\",\n        \"description\": \"\"\n      }\n    },\n    {\n      \"column\": \"expenditure\",\n      \"properties\": {\n        \"dtype\": \"number\",\n        \"std\": 24008,\n        \"min\": 16413,\n        \"max\": 123424,\n        \"num_unique_values\": 69,\n        \"samples\": [\n          32790,\n          42394,\n          90983\n        ],\n        \"semantic_type\": \"\",\n        \"description\": \"\"\n      }\n    },\n    {\n      \"column\": \"eqv_income\",\n      \"properties\": {\n        \"dtype\": \"number\",\n        \"std\": 16004,\n        \"min\": 13402,\n        \"max\": 79607,\n        \"num_unique_values\": 66,\n        \"samples\": [\n          20697,\n          48929,\n          26869\n        ],\n        \"semantic_type\": \"\",\n        \"description\": \"\"\n      }\n    },\n    {\n      \"column\": \"eqv_exp\",\n      \"properties\": {\n        \"dtype\": \"number\",\n        \"std\": 13307,\n        \"min\": 11015,\n        \"max\": 71985,\n        \"num_unique_values\": 67,\n        \"samples\": [\n          39787,\n          20586,\n          24672\n        ],\n        \"semantic_type\": \"\",\n        \"description\": \"\"\n      }\n    }\n  ]\n}"
            }
          },
          "metadata": {},
          "execution_count": 4
        }
      ]
    },
    {
      "cell_type": "markdown",
      "source": [
        "**Scatter Plot**"
      ],
      "metadata": {
        "id": "HjA3L8myes0D"
      }
    },
    {
      "cell_type": "code",
      "source": [
        "plt.scatter(data['year'],data['own'])\n",
        "plt.title(\"Scatter plot\")\n",
        "plt.xlabel('year')\n",
        "plt.ylabel('own')\n",
        "plt.show()"
      ],
      "metadata": {
        "colab": {
          "base_uri": "https://localhost:8080/",
          "height": 472
        },
        "id": "4uj26r1EeEBW",
        "outputId": "54e0a97d-96aa-4134-8400-246262002b80"
      },
      "execution_count": 6,
      "outputs": [
        {
          "output_type": "display_data",
          "data": {
            "text/plain": [
              "<Figure size 640x480 with 1 Axes>"
            ],
            "image/png": "[encoded data removed]"
          },
          "metadata": {}
        }
      ]
    },
    {
      "cell_type": "code",
      "source": [
        "plt.plot(data['year'],data['own'])\n",
        "plt.title(\"Line Chart\")\n",
        "plt.xlabel('year')\n",
        "plt.ylabel('own')\n",
        "plt.show()"
      ],
      "metadata": {
        "colab": {
          "base_uri": "https://localhost:8080/",
          "height": 472
        },
        "id": "kqDrqxnYfnNA",
        "outputId": "bdee2ed1-3c3c-4ed1-d1af-31c80a594e68"
      },
      "execution_count": 8,
      "outputs": [
        {
          "output_type": "display_data",
          "data": {
            "text/plain": [
              "<Figure size 640x480 with 1 Axes>"
            ],
            "image/png": "[encoded data removed]"
          },
          "metadata": {}
        }
      ]
    },
    {
      "cell_type": "markdown",
      "source": [
        "Bar Chart"
      ],
      "metadata": {
        "id": "MKO-iu_ahGer"
      }
    },
    {
      "cell_type": "code",
      "source": [
        "plt.bar(data['year'],data['own'])\n",
        "plt.title(\"Bar Chart\")\n",
        "plt.xlabel(\"year\")\n",
        "plt.ylabel(\"own\")\n",
        "plt.show()"
      ],
      "metadata": {
        "colab": {
          "base_uri": "https://localhost:8080/",
          "height": 472
        },
        "id": "dPPVnQ1YgaKD",
        "outputId": "86765b3e-904a-4711-f49c-a51d7aa136cd"
      },
      "execution_count": 9,
      "outputs": [
        {
          "output_type": "display_data",
          "data": {
            "text/plain": [
              "<Figure size 640x480 with 1 Axes>"
            ],
            "image/png": "[encoded data removed]"
          },
          "metadata": {}
        }
      ]
    },
    {
      "cell_type": "markdown",
      "source": [
        "Histogram"
      ],
      "metadata": {
        "id": "lArCh4TAhjVx"
      }
    },
    {
      "cell_type": "code",
      "source": [
        "plt.hist(data['income'])\n",
        "plt.title(\"Histogram\")\n",
        "plt.xlabel(\"year\")\n",
        "plt.ylabel(\"own\")\n",
        "plt.show()"
      ],
      "metadata": {
        "colab": {
          "base_uri": "https://localhost:8080/",
          "height": 472
        },
        "id": "VgkaoIz2hbZm",
        "outputId": "b5ada715-68d5-488c-dd6b-bc44ce1e562a"
      },
      "execution_count": 11,
      "outputs": [
        {
          "output_type": "display_data",
          "data": {
            "text/plain": [
              "<Figure size 640x480 with 1 Axes>"
            ],
            "image/png": "[encoded data removed]"
          },
          "metadata": {}
        }
      ]
    },
    {
      "cell_type": "code",
      "source": [],
      "metadata": {
        "id": "q2sBtXsjhzbc"
      },
      "execution_count": null,
      "outputs": []
    }
  ]
}